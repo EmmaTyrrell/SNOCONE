{
 "cells": [
  {
   "cell_type": "code",
   "execution_count": null,
   "id": "e63d9e85-4bad-4900-b6db-0fea131f4565",
   "metadata": {},
   "outputs": [],
   "source": [
    "import numpy as np\n",
    "import pandas as pd\n",
    "import matplotlib.pyplot as plt\n",
    "import tensorflow as tf\n",
    "from sklearn.metrics import mean_squared_error\n",
    "import os\n",
    "from datetime import datetime\n",
    "print('modules imported')\n",
    "\n",
    "# paths\n",
    "domain = \"Rockies\"\n",
    "modelWorkspace = f\"D:/ASOML/{domain}/modelOutputs/fromAlpine/\"\n",
    "iteration = \"20250717_073937\"\n",
    "phv_features = WorkspaceBase + \"features/scaled/\"\n",
    "tree_workspace = WorkspaceBase + \"treeCover/\"\n",
    "land_workspace = WorkspaceBase + \"landCover/\"\n",
    "DMFSCAWorkspace = WorkspaceBase + \"Rockies_DMFSCA/\"\n",
    "final_activation = 'relu'\n",
    "architecture = 'FCN_SWE'\n",
    "print('paths set')\n",
    "\n",
    "# set model specfic paths \n",
    "weights_path = f\"{modelWorkspace}/{iteration}/best_weights_{iteration}.h5\"\n",
    "\n",
    "# create folder for model outputs\n",
    "os.makedirs(f\"{modelWorkspace}/{iteration}/shap_outputs/\", exist_ok=True)\n",
    "shap_outputs = f\"{modelWorkspace}/{iteration}/shap_outputs/\"\n",
    "\n",
    "X, y, featureNames = target_feature_stacks(start_year=start_year, \n",
    "                                               end_year=end_year, \n",
    "                                               WorkspaceBase=WorkspaceBase, \n",
    "                                               ext = \"nonull_fnl.tif\", \n",
    "                                               vegetation_path = tree_workspace, \n",
    "                                               landCover_path = land_workspace, \n",
    "                                               phv_path = phv_features , \n",
    "                                               target_shape=(256,256),\n",
    "                                               shapeChecks=\"Y\")\n"
   ]
  }
 ],
 "metadata": {
  "kernelspec": {
   "display_name": "Python 3 (ipykernel)",
   "language": "python",
   "name": "python3"
  },
  "language_info": {
   "codemirror_mode": {
    "name": "ipython",
    "version": 3
   },
   "file_extension": ".py",
   "mimetype": "text/x-python",
   "name": "python",
   "nbconvert_exporter": "python",
   "pygments_lexer": "ipython3",
   "version": "3.9.18"
  }
 },
 "nbformat": 4,
 "nbformat_minor": 5
}
