{
 "cells": [
  {
   "cell_type": "code",
   "execution_count": null,
   "id": "89dbe424-758c-450f-b0e4-7df0633654e7",
   "metadata": {},
   "outputs": [],
   "source": [
    "import os\n",
    "\n",
    "folder_path = \"/path/to/your/folder\"  # Replace with your actual path\n",
    "\n",
    "# Get all filenames in the folder\n",
    "filenames = os.listdir(folder_path)\n",
    "\n",
    "# Extract the prefix before the first underscore\n",
    "prefixes = {fname.split(\"_\")[0] for fname in filenames if \"_\" in fname}\n",
    "\n",
    "# Convert to a sorted list (optional)\n",
    "unique_prefix_list = sorted(prefixes)\n",
    "\n",
    "print(unique_prefix_list)"
   ]
  },
  {
   "cell_type": "code",
   "execution_count": null,
   "id": "8409b4c3-b304-44c3-992d-3c45ddaafca3",
   "metadata": {},
   "outputs": [],
   "source": []
  }
 ],
 "metadata": {
  "kernelspec": {
   "display_name": "Python (aso-gpu)",
   "language": "python",
   "name": "aso-gpu"
  },
  "language_info": {
   "name": ""
  }
 },
 "nbformat": 4,
 "nbformat_minor": 5
}
