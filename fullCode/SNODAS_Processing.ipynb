{
 "cells": [
  {
   "cell_type": "code",
   "execution_count": 2,
   "id": "b32448cf-77ef-4b35-9d86-82b82625c759",
   "metadata": {},
   "outputs": [
    {
     "ename": "ValueError",
     "evalue": "cannot reshape array of size 23239185 into shape (1033,1597)",
     "output_type": "error",
     "traceback": [
      "\u001b[1;31m---------------------------------------------------------------------------\u001b[0m",
      "\u001b[1;31mValueError\u001b[0m                                Traceback (most recent call last)",
      "Cell \u001b[1;32mIn[2], line 8\u001b[0m\n\u001b[0;32m      6\u001b[0m dat_file \u001b[38;5;241m=\u001b[39m \u001b[38;5;124mr\u001b[39m\u001b[38;5;124m\"\u001b[39m\u001b[38;5;124mD:\u001b[39m\u001b[38;5;124m\\\u001b[39m\u001b[38;5;124mASOML\u001b[39m\u001b[38;5;124m\\\u001b[39m\u001b[38;5;124mSNODAS\u001b[39m\u001b[38;5;124m\\\u001b[39m\u001b[38;5;124mraw\u001b[39m\u001b[38;5;124m\\\u001b[39m\u001b[38;5;124mSNODAS_20250409\u001b[39m\u001b[38;5;124m\\\u001b[39m\u001b[38;5;124mus_ssmv11034tS__T0001TTNATS2025040905HP001.dat\u001b[39m\u001b[38;5;124m\"\u001b[39m\n\u001b[0;32m      7\u001b[0m data \u001b[38;5;241m=\u001b[39m np\u001b[38;5;241m.\u001b[39mfromfile(dat_file, dtype\u001b[38;5;241m=\u001b[39mnp\u001b[38;5;241m.\u001b[39mint16)  \u001b[38;5;66;03m# SNODAS is usually Int16\u001b[39;00m\n\u001b[1;32m----> 8\u001b[0m data \u001b[38;5;241m=\u001b[39m \u001b[43mdata\u001b[49m\u001b[38;5;241;43m.\u001b[39;49m\u001b[43mreshape\u001b[49m\u001b[43m(\u001b[49m\u001b[43m(\u001b[49m\u001b[38;5;241;43m1033\u001b[39;49m\u001b[43m,\u001b[49m\u001b[43m \u001b[49m\u001b[38;5;241;43m1597\u001b[39;49m\u001b[43m)\u001b[49m\u001b[43m)\u001b[49m  \u001b[38;5;66;03m# SNODAS standard dimensions\u001b[39;00m\n\u001b[0;32m     10\u001b[0m \u001b[38;5;66;03m# Step 2: Apply scale factor if needed\u001b[39;00m\n\u001b[0;32m     11\u001b[0m data \u001b[38;5;241m=\u001b[39m data\u001b[38;5;241m.\u001b[39mastype(\u001b[38;5;124m'\u001b[39m\u001b[38;5;124mfloat32\u001b[39m\u001b[38;5;124m'\u001b[39m)\n",
      "\u001b[1;31mValueError\u001b[0m: cannot reshape array of size 23239185 into shape (1033,1597)"
     ]
    }
   ],
   "source": [
    "import numpy as np\n",
    "import rasterio\n",
    "from rasterio.transform import from_origin\n",
    "\n",
    "# Step 1: Load the .dat file\n",
    "dat_file = r\"D:\\ASOML\\SNODAS\\raw\\SNODAS_20250409\\us_ssmv11034tS__T0001TTNATS2025040905HP001.dat\"\n",
    "data = np.fromfile(dat_file, dtype=np.int16)  # SNODAS is usually Int16\n",
    "data = data.reshape((1033, 1597))  # SNODAS standard dimensions\n",
    "\n",
    "# Step 2: Apply scale factor if needed\n",
    "data = data.astype('float32')\n",
    "data[data == -9999] = np.nan  # SNODAS missing value\n",
    "data = data / 1000.0  # convert mm to m if applicable\n",
    "\n",
    "# Step 3: Define georeference info (SNODAS grid is usually this)\n",
    "transform = from_origin(-124.733333, 52.875, 0.00833333, 0.00833333)  # (west, north, xres, yres)\n",
    "crs = \"EPSG:4326\"\n",
    "\n",
    "# Step 4: Save as GeoTIFF\n",
    "with rasterio.open(\n",
    "    'snodas_output.tif',\n",
    "    'w',\n",
    "    driver='GTiff',\n",
    "    height=data.shape[0],\n",
    "    width=data.shape[1],\n",
    "    count=1,\n",
    "    dtype='float32',\n",
    "    crs=crs,\n",
    "    transform=transform,\n",
    "    nodata=np.nan\n",
    ") as dst:\n",
    "    dst.write(data, 1)\n"
   ]
  },
  {
   "cell_type": "code",
   "execution_count": null,
   "id": "7020809e-09f3-401c-a503-9f8dd1dec68c",
   "metadata": {},
   "outputs": [],
   "source": []
  }
 ],
 "metadata": {
  "kernelspec": {
   "display_name": "Python 3 (ipykernel)",
   "language": "python",
   "name": "python3"
  },
  "language_info": {
   "codemirror_mode": {
    "name": "ipython",
    "version": 3
   },
   "file_extension": ".py",
   "mimetype": "text/x-python",
   "name": "python",
   "nbconvert_exporter": "python",
   "pygments_lexer": "ipython3",
   "version": "3.9.18"
  }
 },
 "nbformat": 4,
 "nbformat_minor": 5
}
