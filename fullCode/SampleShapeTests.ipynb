{
 "cells": [
  {
   "cell_type": "code",
   "execution_count": null,
   "id": "ca1866d5-631e-4413-8edd-a5351dfc8013",
   "metadata": {},
   "outputs": [],
   "source": [
    "# this is a QC to check to make sure everything has the right size\n",
    "import rasterio\n",
    "import os\n",
    "import pandas\n",
    "import numpy as np\n",
    "\n",
    "years = list(range(2022, 2025))\n",
    "for year in years:\n",
    "    print(f\"Processing {year}\")\n",
    "    folder = f\"D:/ASOML/Sierras/{year}/SWE_processed_splits/\"\n",
    "    for file in os.listdir(folder):\n",
    "        if file.endswith(\"nonull.tif\"):\n",
    "            raster_path = os.path.join(folder, file)\n",
    "            with rasterio.open(raster_path) as src:\n",
    "                shape = src.read(1).shape\n",
    "                data = src.read(1)\n",
    "                data[data == -9999] = -1\n",
    "                if shape != (256, 256):\n",
    "                    print(f\"{file} | {shape} | {year}\")\n",
    "                    # fix the raster paths \n",
    "                    fixed_data = np.full((256, 256), -1, dtype=data.dtype)\n",
    "                    # Paste the original data into the top-left corner\n",
    "                    fixed_data[:shape[0], :shape[1]] = data\n",
    "                else:\n",
    "                    fixed_data = data \n",
    "\n",
    "                # Update metadata\n",
    "                new_meta = src.meta.copy()\n",
    "                new_meta.update({\n",
    "                    'height': 256,\n",
    "                    'width': 256,\n",
    "                    'nodata': -1,\n",
    "                    'transform': rasterio.transform.from_origin(\n",
    "                        src.bounds.left, src.bounds.top,\n",
    "                        src.res[0], src.res[1]\n",
    "                    )\n",
    "                })\n",
    "\n",
    "                # Overwrite the original raster\n",
    "                with rasterio.open(f\"{raster_path[:-4]}_fnl.tif\", 'w', **new_meta) as dst:\n",
    "                    dst.write(fixed_data, 1)\n",
    "\n",
    "for year in years: \n",
    "    folder = f\"D:/ASOML/Sierras/{year}/SWE_processed_splits/\"\n",
    "    for filename in os.listdir(folder):\n",
    "        if not filename.endswith(\"_fnl.tif\"):\n",
    "            file_path = os.path.join(folder, filename)\n",
    "            if os.path.isfile(file_path):  \n",
    "                print(f\"Deleting: {file_path}\")\n",
    "                os.remove(file_path)"
   ]
  },
  {
   "cell_type": "code",
   "execution_count": 2,
   "id": "2a9d8bbe-70be-4aa7-aeba-e1f2dc6f8524",
   "metadata": {},
   "outputs": [],
   "source": [
    "import os \n",
    "lst = os.listdir(f\"D:/ASOML/Sierras/2024/SWE_processed_splits/\")"
   ]
  },
  {
   "cell_type": "code",
   "execution_count": 3,
   "id": "4c4e1894-b98a-46d8-9039-0dec77e0edba",
   "metadata": {},
   "outputs": [
    {
     "data": {
      "text/plain": [
       "1541"
      ]
     },
     "execution_count": 3,
     "metadata": {},
     "output_type": "execute_result"
    }
   ],
   "source": [
    "len(lst)"
   ]
  },
  {
   "cell_type": "code",
   "execution_count": 2,
   "id": "402c0454-8312-4c21-b1ed-cc184e811aac",
   "metadata": {},
   "outputs": [
    {
     "name": "stdout",
     "output_type": "stream",
     "text": [
      "['BigThompson', 'BlueRiver', 'BoulderCreek', 'ClearCreek', 'Conejos', 'Dolores', 'EastRiver', 'GunnisonNorth', 'Poudre', 'RioGrande', 'RoaringFork', 'SouthPlatte', 'StVrainLefthand', 'Taylor', 'UintaMountains', 'WindyGap', 'YampaRiver']\n"
     ]
    }
   ],
   "source": [
    "import os\n",
    "\n",
    "folder_path = r\"D:\\ASOML\\Rockies\\test_2025_basin\\2025\\SWE_processed_splits\"  # Replace with your actual path\n",
    "\n",
    "# Get all filenames in the folder\n",
    "filenames = os.listdir(folder_path)\n",
    "\n",
    "# Extract the prefix before the first underscore\n",
    "prefixes = {fname.split(\"_\")[0] for fname in filenames if \"_\" in fname}\n",
    "\n",
    "# Convert to a sorted list (optional)\n",
    "unique_prefix_list = sorted(prefixes)\n",
    "\n",
    "print(unique_prefix_list)"
   ]
  },
  {
   "cell_type": "code",
   "execution_count": null,
   "id": "8b7c6ffa-abec-4c2a-b9a2-21aee6558d8f",
   "metadata": {},
   "outputs": [],
   "source": []
  }
 ],
 "metadata": {
  "kernelspec": {
   "display_name": "Python (aso-dl)",
   "language": "python",
   "name": "aso-dl"
  },
  "language_info": {
   "codemirror_mode": {
    "name": "ipython",
    "version": 3
   },
   "file_extension": ".py",
   "mimetype": "text/x-python",
   "name": "python",
   "nbconvert_exporter": "python",
   "pygments_lexer": "ipython3",
   "version": "3.9.18"
  }
 },
 "nbformat": 4,
 "nbformat_minor": 5
}
