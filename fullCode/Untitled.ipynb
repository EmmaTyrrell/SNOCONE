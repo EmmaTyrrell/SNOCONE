{
 "cells": [
  {
   "cell_type": "code",
   "execution_count": 5,
   "id": "c21473e4-4d13-41b1-ba93-4c52dc280e09",
   "metadata": {},
   "outputs": [],
   "source": [
    "import shutil\n",
    "\n",
    "# modelRuns = [\"20250717_073937\", \"20250717_074016\", \"20250717_074248\",\n",
    "#              \"20250717_090321\", \"20250717_091138\", \"20250717_095915\", \"20250717_103354\", \"20250717_104948\", \n",
    "#               \"20250717_105044\", \"20250717_115221\", \"20250717_115417\", \"20250717_115648\"]\n",
    "\n",
    "modelRuns = [\"20250717_074248\",\"20250717_090321\", \"20250717_091138\", \"20250717_095915\", \"20250717_103354\", \"20250717_104948\", \n",
    "              \"20250717_105044\", \"20250717_115221\", \"20250717_115417\", \"20250717_115648\", \"20250717_135654\", \"20250718_230058\", \n",
    "            \"20250719_061602\", \"20250719_061740\", \"20250720_223902\", \"20250720_232408\", \"20250721_062531\", \"20250721_063239\", \"20250721_071615\",\n",
    "            \"20250721_071631\", \"20250721_073243\", \"20250721_081835\", \"20250721_082755\", \"20250721_091232\", \"20250721_091643\"]\n",
    "\n",
    "workspace = \"D:/ASOML/Rockies/modelOutputs/fromAlpine/\"\n",
    "groups = [\"G1\", \"G2\", \"G3\", \"G4\", \"G5\", \"G6\"]\n",
    "\n",
    "for model in modelRuns:\n",
    "    align = f\"{workspace}/{model}/errorReview/aligned/\"\n",
    "    errorWS = f\"{workspace}/{model}/errorReview\"\n",
    "    nseWS = f\"{workspace}/{model}/nse_rasters\"\n",
    "    shutil.rmtree(errorWS)\n",
    "    shutil.rmtree(nseWS)\n",
    "    for group in groups:\n",
    "        vettingWS = f\"{workspace}/{model}/outTifs_{group}_yPreds_tifs/vetting/\"\n",
    "        mosaic = f\"{workspace}/{model}/outTifs_{group}_yPreds_tifs/mosaic_output/\"  \n",
    "        shutil.rmtree(vettingWS)\n",
    "        shutil.rmtree(mosaic)\n"
   ]
  },
  {
   "cell_type": "code",
   "execution_count": null,
   "id": "8ac7fb48-de5c-46be-b7ce-f492f4b94576",
   "metadata": {},
   "outputs": [],
   "source": []
  }
 ],
 "metadata": {
  "kernelspec": {
   "display_name": "Python 3 (ipykernel)",
   "language": "python",
   "name": "python3"
  },
  "language_info": {
   "codemirror_mode": {
    "name": "ipython",
    "version": 3
   },
   "file_extension": ".py",
   "mimetype": "text/x-python",
   "name": "python",
   "nbconvert_exporter": "python",
   "pygments_lexer": "ipython3",
   "version": "3.9.18"
  }
 },
 "nbformat": 4,
 "nbformat_minor": 5
}
