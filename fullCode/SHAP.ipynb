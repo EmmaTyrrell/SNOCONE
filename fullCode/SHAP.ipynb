{
 "cells": [
  {
   "cell_type": "code",
   "execution_count": null,
   "id": "40b66cfc-d61a-4dd8-9a5b-eaf2c619673a",
   "metadata": {},
   "outputs": [
    {
     "name": "stdout",
     "output_type": "stream",
     "text": [
      "Loading model...\n",
      "Model loaded successfully. No compilation needed for SHAP analysis.\n",
      "Creating SHAP with gradient explainer...\n",
      "Calculating SHAP values...\n"
     ]
    },
    {
     "name": "stderr",
     "output_type": "stream",
     "text": [
      "C:\\Users\\etyrr\\anaconda3\\envs\\aso-dl\\lib\\site-packages\\keras\\backend.py:451: UserWarning: `tf.keras.backend.set_learning_phase` is deprecated and will be removed after 2020-10-11. To update it, simply pass a True/False value to the `training` argument of the `__call__` method of your layer or model.\n",
      "  warnings.warn(\n"
     ]
    }
   ],
   "source": [
    "import shap\n",
    "import sys\n",
    "sys.path.append(\"D:/ASOML/SNOCONE\")\n",
    "import numpy as np\n",
    "import pandas as pd\n",
    "import os\n",
    "from CNN_benchmarks import*\n",
    "from CNN_memoryOptimization import*\n",
    "from CNN_preProcessing import*\n",
    "from CNN_benchmarks import*\n",
    "from CNN_modelArchitectureBlocks import*\n",
    "import tensorflow as tf\n",
    "import gc\n",
    "import psutil\n",
    "import matplotlib.pyplot as plt\n",
    "import multiprocessing as mp\n",
    "from concurrent.futures import ThreadPoolExecutor, ProcessPoolExecutor\n",
    "import threading\n",
    "final_activation = 'relu'\n",
    "\n",
    "# establish parameters\n",
    "Domain = \"Rockies\"\n",
    "basin_name = \"Conejos\"\n",
    "WorkspaceBase = f\"D:/ASOML/{Domain}/\"\n",
    "ModelOutputs = f\"{WorkspaceBase}/modelOutputs/BasinSpecifics/\"\n",
    "time_code = \"20250721_132214\"\n",
    "model_interation = f\"{basin_name}_{time_code}\"\n",
    "feature_Listcsv = f\"{ModelOutputs}/{Domain}_{basin_name}_model_featureList_summary.csv\"\n",
    "best_weights = ModelOutputs + f\"/{model_interation}/best_weights_{model_interation}.h5\"\n",
    "start_year = 2022\n",
    "end_year = 2024\n",
    "shap_output = f\"{ModelOutputs}/{model_interation}/shap_results/\"\n",
    "architecture = \"FCN_SWE\"\n",
    "shapeChecks = \"N\"\n",
    "\n",
    "X = np.load(f\"D:/ASOML/Rockies/saved_stacks/{basin_name}/X_stack.npy\")\n",
    "y = np.load(f\"D:/ASOML/Rockies/saved_stacks/{basin_name}/y_stack.npy\")\n",
    "\n",
    "# For feature names (a list of strings), use allow_pickle=True\n",
    "featureNames = np.load(f\"D:/ASOML/Rockies/saved_stacks/{basin_name}/feature_names.npy\", allow_pickle=True)\n",
    "featNo = len(featureNames)\n",
    "\n",
    "# Run the optimized SHAP analysis\n",
    "results = run_shap(weights_path=best_weights, \n",
    "                   X_sample=X, \n",
    "                   feature_names=featureNames, \n",
    "                   featNo=featNo, \n",
    "                   architecture=architecture, \n",
    "                   final_activation=\"relu\", \n",
    "                   output_dir=shap_output)"
   ]
  },
  {
   "cell_type": "code",
   "execution_count": null,
   "id": "c93e7e55-f15f-49ee-a979-9a54a4a1f8ae",
   "metadata": {},
   "outputs": [],
   "source": []
  }
 ],
 "metadata": {
  "kernelspec": {
   "display_name": "Python 3 (ipykernel)",
   "language": "python",
   "name": "python3"
  },
  "language_info": {
   "codemirror_mode": {
    "name": "ipython",
    "version": 3
   },
   "file_extension": ".py",
   "mimetype": "text/x-python",
   "name": "python",
   "nbconvert_exporter": "python",
   "pygments_lexer": "ipython3",
   "version": "3.9.18"
  }
 },
 "nbformat": 4,
 "nbformat_minor": 5
}
