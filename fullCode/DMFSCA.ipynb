{
 "cells": [
  {
   "cell_type": "code",
   "execution_count": 1,
   "id": "404a1d2d-a6d9-4550-b0d6-48e8ee200050",
   "metadata": {},
   "outputs": [
    {
     "name": "stdout",
     "output_type": "stream",
     "text": [
      "modules imported\n",
      "Wrote: D:/ASOML/DMFSCA/WY_24-25_DMFSCA/20250527_dmfsca.tif\n"
     ]
    }
   ],
   "source": [
    "# import modules\n",
    "import rasterio\n",
    "import numpy as np\n",
    "import os \n",
    "from datetime import datetime, timedelta\n",
    "print(\"modules imported\")\n",
    "\n",
    "# establish paths\n",
    "dmfscaWS = \"D:/ASOML/DMFSCA/\"\n",
    "originalFiles = dmfscaWS + \"WY_24-25_totalFSCA/\"\n",
    "output = dmfscaWS + \"WY_24-25_DMFSCA/\"\n",
    "\n",
    "# getting average\n",
    "wateryearStart = datetime(2024, 10, 1)\n",
    "process_start_date = datetime(2025, 5, 27)\n",
    "end_date = datetime(2025, 5, 27)\n",
    "\n",
    "# sort files\n",
    "raster_files = sorted([f for f in os.listdir(originalFiles) if f.endswith(\".tif\")])\n",
    "\n",
    "# maps dates to file paths\n",
    "raster_dict = {}\n",
    "for f in raster_files:\n",
    "    try:\n",
    "        date_str = os.path.splitext(f)[0]  # assumes filename like \"20241001.tif\"\n",
    "        file_date = datetime.strptime(date_str, \"%Y%m%d\")\n",
    "        raster_dict[file_date] = os.path.join(originalFiles, f)\n",
    "    except ValueError:\n",
    "        continue\n",
    "\n",
    "# sort the dictionary by date\n",
    "sorted_dates = sorted(raster_dict.keys())\n",
    "\n",
    "for current_date in sorted_dates:\n",
    "    if current_date < process_start_date or current_date > end_date:\n",
    "        continue\n",
    "\n",
    "    # Get all dates up to and including the current date\n",
    "    date_subset = [d for d in sorted_dates if wateryearStart <= d <= current_date]\n",
    "\n",
    "    # Initialize accumulator\n",
    "    sum_array = None\n",
    "    count = 0\n",
    "\n",
    "    for d in date_subset:\n",
    "        with rasterio.open(raster_dict[d]) as src:\n",
    "            data = src.read(1).astype(np.float32)\n",
    "            mask = data == src.nodata\n",
    "            data[mask] = 0  \n",
    "            if sum_array is None:\n",
    "                sum_array = np.zeros_like(data)\n",
    "                valid_mask = np.zeros_like(data, dtype=np.int32)\n",
    "            sum_array += data\n",
    "            valid_mask += ~mask  # count valid pixels\n",
    "            profile = src.profile\n",
    "\n",
    "    # Compute average\n",
    "    with np.errstate(invalid='ignore'):\n",
    "        avg_array = np.divide(sum_array, valid_mask, where=valid_mask != 0)\n",
    "        avg_array[valid_mask == 0] = profile['nodata']  # restore NoData\n",
    "\n",
    "    # Save output\n",
    "    out_filename = os.path.join(output, f\"{current_date.strftime('%Y%m%d')}_dmfsca.tif\")\n",
    "    with rasterio.open(out_filename, \"w\", **profile) as dst:\n",
    "        dst.write(avg_array, 1)\n",
    "\n",
    "    print(f\"Wrote: {out_filename}\")"
   ]
  },
  {
   "cell_type": "code",
   "execution_count": null,
   "id": "7ceb6a73-b005-44ee-9d7b-9f900fcc71d9",
   "metadata": {},
   "outputs": [],
   "source": []
  }
 ],
 "metadata": {
  "kernelspec": {
   "display_name": "Python (aso-dl)",
   "language": "python",
   "name": "aso-dl"
  },
  "language_info": {
   "codemirror_mode": {
    "name": "ipython",
    "version": 3
   },
   "file_extension": ".py",
   "mimetype": "text/x-python",
   "name": "python",
   "nbconvert_exporter": "python",
   "pygments_lexer": "ipython3",
   "version": "3.9.18"
  }
 },
 "nbformat": 4,
 "nbformat_minor": 5
}
